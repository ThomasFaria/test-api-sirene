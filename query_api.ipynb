{
 "cells": [
  {
   "cell_type": "code",
   "execution_count": null,
   "metadata": {},
   "outputs": [],
   "source": [
    "import requests\n",
    "import pandas as pd\n",
    "from urllib.parse import urlencode"
   ]
  },
  {
   "attachments": {},
   "cell_type": "markdown",
   "metadata": {},
   "source": [
    "# APPEL DE l'API POUR UNE SEULE LIASSE ####\n"
   ]
  },
  {
   "attachments": {},
   "cell_type": "markdown",
   "metadata": {},
   "source": [
    "Function to query the API for a single bundle"
   ]
  },
  {
   "cell_type": "code",
   "execution_count": null,
   "metadata": {},
   "outputs": [],
   "source": [
    "def query_api(username, password, text_feature, type_liasse=None, nature=None, surface=None, event=None, nb_echos_max=5, prob_min=0.01):\n",
    "    \"\"\"\n",
    "    Query the API with the provided parameters and authentication credentials.\n",
    "\n",
    "    Parameters:\n",
    "        username (str): The username for API authentication.\n",
    "        password (str): The password for API authentication.\n",
    "        text_feature (str): The text feature to be used in the API query.\n",
    "        type_liasse (str, optional): The type of liasse (default: None).\n",
    "        nature (int, optional): The nature parameter (default: None).\n",
    "        surface (int, optional): The surface parameter (default: None).\n",
    "        event (str, optional): The event parameter (default: None).\n",
    "        nb_echos_max (int, optional): The maximum number of echoes (default: 5).\n",
    "        prob_min (float, optional): The minimum probability (default: 0.01).\n",
    "\n",
    "    Returns:\n",
    "        dict or None: The JSON response from the API if the request is successful,\n",
    "        None otherwise. If the request returns a 400 status code, the error detail\n",
    "        is printed and None is returned.\n",
    "    \"\"\"\n",
    "    \n",
    "    base_url = \"https://codification-ape.lab.sspcloud.fr/predict\"\n",
    "    params = {\n",
    "        \"text_feature\": text_feature,\n",
    "        \"type_liasse\": type_liasse,\n",
    "        \"nature\": nature,\n",
    "        \"surface\": surface,\n",
    "        \"event\": event,\n",
    "        \"nb_echos_max\": nb_echos_max,\n",
    "        \"prob_min\": prob_min\n",
    "    }\n",
    "\n",
    "    params = {k: v for k, v in params.items() if v is not None}\n",
    "    url = f\"{base_url}?{urlencode(params)}\"\n",
    "    \n",
    "    response = requests.get(url, auth=(username, password))\n",
    "    \n",
    "    if response.status_code == 200:\n",
    "        return response.json()\n",
    "    elif response.status_code == 400:\n",
    "        print(response.json()[\"detail\"])\n",
    "    else:\n",
    "        print(\"Error occurred while querying the API.\")\n",
    "        return None"
   ]
  },
  {
   "attachments": {},
   "cell_type": "markdown",
   "metadata": {},
   "source": [
    "Set the authentication credentials"
   ]
  },
  {
   "cell_type": "code",
   "execution_count": null,
   "metadata": {},
   "outputs": [],
   "source": [
    "username = \"username\"\n",
    "password = \"password\""
   ]
  },
  {
   "attachments": {},
   "cell_type": "markdown",
   "metadata": {},
   "source": [
    "Set query parameters"
   ]
  },
  {
   "cell_type": "code",
   "execution_count": null,
   "metadata": {},
   "outputs": [],
   "source": [
    "text_feature = \"LOUEUR MEUBLE NON PROFESSIONNEL EN RESIDENCE DE SERVICES (CODE APE 6820A Location de logements)\"\n",
    "type_liasse = \"I\"\n",
    "nature = None\n",
    "surface = None\n",
    "event=\"01P\"\n",
    "nb_echos_max = 5\n",
    "prob_min = 0.01"
   ]
  },
  {
   "attachments": {},
   "cell_type": "markdown",
   "metadata": {},
   "source": [
    "Query the API and print the result"
   ]
  },
  {
   "cell_type": "code",
   "execution_count": null,
   "metadata": {},
   "outputs": [],
   "source": [
    "result = query_api(username, password, text_feature, type_liasse, nature, surface, event, nb_echos_max, prob_min)\n",
    "result"
   ]
  },
  {
   "attachments": {},
   "cell_type": "markdown",
   "metadata": {},
   "source": [
    "# APPEL DE l'API POUR UN BATCH DE LIASSES"
   ]
  },
  {
   "attachments": {},
   "cell_type": "markdown",
   "metadata": {},
   "source": [
    "Function to query the API for a batch of data"
   ]
  },
  {
   "cell_type": "code",
   "execution_count": null,
   "metadata": {},
   "outputs": [],
   "source": [
    "def query_batch_api(username: str, password: str, data: pd.DataFrame, nb_echos_max:int = 5, prob_min: float = 0.01):\n",
    "    base_url = \"https://codification-ape.lab.sspcloud.fr/predict-batch\"\n",
    "    params = {\n",
    "        \"nb_echos_max\": nb_echos_max,\n",
    "        \"prob_min\": prob_min\n",
    "    }\n",
    "    url = f\"{base_url}?{urlencode(params)}\"\n",
    "\n",
    "    # Create the request body as a dictionary from the DataFrame\n",
    "    request_body = data.to_dict(orient=\"list\")\n",
    "\n",
    "    response = requests.post(url, json=request_body, auth=(username, password))\n",
    "    \n",
    "    if response.status_code == 200:\n",
    "        return response.json()\n",
    "    elif response.status_code == 400:\n",
    "        print(response.json()[\"detail\"])\n",
    "    else:\n",
    "        print(\"Error occurred while querying the API.\")\n",
    "        return None"
   ]
  },
  {
   "attachments": {},
   "cell_type": "markdown",
   "metadata": {},
   "source": [
    "Create an artificial dataset"
   ]
  },
  {
   "cell_type": "code",
   "execution_count": null,
   "metadata": {},
   "outputs": [],
   "source": [
    "libs = [\"LOUEUR MEUBLE NON PROFESSIONNEL EN RESIDENCE DE SERVICES (CODE APE 6820A Location de logements)\", \"CONSULTANT EN INNOVATION\", \"INTERMEDIAIRE DE COMMERCE MISE EN RELATION\"]"
   ]
  },
  {
   "cell_type": "code",
   "execution_count": null,
   "metadata": {},
   "outputs": [],
   "source": [
    "types = [\"I\", \"X\", \"Y\"]"
   ]
  },
  {
   "cell_type": "code",
   "execution_count": null,
   "metadata": {},
   "outputs": [],
   "source": [
    "natures = [\"\", \"\", \"10\"]"
   ]
  },
  {
   "cell_type": "code",
   "execution_count": null,
   "metadata": {},
   "outputs": [],
   "source": [
    "surfaces = [\"\", \"\", \"2\"]"
   ]
  },
  {
   "cell_type": "code",
   "execution_count": null,
   "metadata": {},
   "outputs": [],
   "source": [
    "event = [\"01P\", \"01P\", \"01P\"]"
   ]
  },
  {
   "attachments": {},
   "cell_type": "markdown",
   "metadata": {},
   "source": [
    "Set the data in a DataFrame"
   ]
  },
  {
   "cell_type": "code",
   "execution_count": null,
   "metadata": {},
   "outputs": [],
   "source": [
    "data = {\n",
    "    \"text_description\": libs,\n",
    "    \"type_\": types,\n",
    "    \"nature\": natures,\n",
    "    \"surface\": surfaces,\n",
    "    \"event\": event\n",
    "}\n",
    "df = pd.DataFrame(data)\n",
    "df.head()"
   ]
  },
  {
   "attachments": {},
   "cell_type": "markdown",
   "metadata": {},
   "source": [
    "Query the API and print the result"
   ]
  },
  {
   "cell_type": "code",
   "execution_count": null,
   "metadata": {},
   "outputs": [],
   "source": [
    "result = query_batch_api(username, password, df)\n",
    "result"
   ]
  },
  {
   "cell_type": "code",
   "execution_count": null,
   "metadata": {},
   "outputs": [],
   "source": []
  }
 ],
 "metadata": {
  "kernelspec": {
   "display_name": "base",
   "language": "python",
   "name": "python3"
  },
  "language_info": {
   "codemirror_mode": {
    "name": "ipython",
    "version": 3
   },
   "file_extension": ".py",
   "mimetype": "text/x-python",
   "name": "python",
   "nbconvert_exporter": "python",
   "pygments_lexer": "ipython3",
   "version": "3.10.9"
  },
  "orig_nbformat": 4
 },
 "nbformat": 4,
 "nbformat_minor": 2
}
